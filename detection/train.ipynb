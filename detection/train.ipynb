{
 "cells": [
  {
   "cell_type": "code",
   "execution_count": 1,
   "metadata": {
    "collapsed": true,
    "pycharm": {
     "name": "#%%\n"
    }
   },
   "outputs": [],
   "source": [
    "from torch.utils.data import DataLoader\n",
    "from imgaug import augmenters as iaa\n",
    "import torch\n",
    "import numpy as np\n",
    "import random\n",
    "from detection.Faster_RCNN.trainer import FasterRCNNTrainer\n",
    "from detection.Faster_RCNN.vgg_faseter_rcnn import VGGFasterRCNN\n",
    "from detection.dataset.voc_dataset import VocDataset\n"
   ]
  },
  {
   "cell_type": "code",
   "execution_count": 2,
   "outputs": [],
   "source": [
    "def setup_seed(seed):\n",
    "    torch.manual_seed(seed)\n",
    "    torch.cuda.manual_seed_all(seed)\n",
    "    np.random.seed(seed)\n",
    "    random.seed(seed)\n",
    "\n"
   ],
   "metadata": {
    "collapsed": false,
    "pycharm": {
     "name": "#%%\n"
    }
   }
  },
  {
   "cell_type": "code",
   "execution_count": 3,
   "outputs": [
    {
     "name": "stdout",
     "output_type": "stream",
     "text": [
      "raw image shape:(442, 500, 3)\n",
      "transformed image shape:(442, 500, 3)\n",
      "scaled image shape:torch.Size([3, 600, 678])\n",
      "tensor([[[ 29.,  22., 447., 355.],\n",
      "         [211., 275., 342., 398.]]]) tensor([[12., 14.]])\n",
      "idx:  tensor(9)\n",
      "idx:  tensor(0)\n",
      "正样本数： tensor(9)\n",
      "负样本数： tensor(247)\n",
      "计算rpn回归损失\n",
      "weight: tensor(36)\n",
      "计算RoI回归损失\n",
      "weight: tensor(76)\n",
      "LossTuple(rpn_reg_loss=tensor(0.0149, grad_fn=<DivBackward0>), rpn_cls_loss=tensor(0.6924, grad_fn=<NllLossBackward>), roi_reg_loss=tensor(0.3790, grad_fn=<DivBackward0>), roi_cls_loss=tensor(3.0420, grad_fn=<NllLossBackward>), total_loss=tensor(4.1282, grad_fn=<AddBackward0>))\n"
     ]
    }
   ],
   "source": [
    "setup_seed(20)\n",
    "\n",
    "root = \"D:\\\\classicNerualNetWork\\\\detection\\\\VOCtrainval_11-May-2012\\\\VOCdevkit\\\\VOC2012\"\n",
    "seq = iaa.Sequential([\n",
    "    iaa.Fliplr(0.5),\n",
    "    iaa.Flipud(0.5)\n",
    "])\n",
    "voc_dataset = VocDataset(root_dir=root, transforms=seq)\n",
    "voc_dataloader = DataLoader(voc_dataset, shuffle=False, batch_size=1)\n",
    "image, bbox_list, label = next(iter(voc_dataloader))\n",
    "print(bbox_list, label)\n",
    "vgg_faster_rcnn = VGGFasterRCNN()\n",
    "optimizer = torch.optim.SGD(vgg_faster_rcnn.parameters(), lr=0.001, momentum=0.5)\n",
    "trainer = FasterRCNNTrainer(vgg_faster_rcnn, optimizer)\n",
    "losses = trainer.step(image, bbox_list, label)\n",
    "print(losses)\n"
   ],
   "metadata": {
    "collapsed": false,
    "pycharm": {
     "name": "#%%\n"
    }
   }
  }
 ],
 "metadata": {
  "kernelspec": {
   "display_name": "Python 3",
   "language": "python",
   "name": "python3"
  },
  "language_info": {
   "codemirror_mode": {
    "name": "ipython",
    "version": 2
   },
   "file_extension": ".py",
   "mimetype": "text/x-python",
   "name": "python",
   "nbconvert_exporter": "python",
   "pygments_lexer": "ipython2",
   "version": "2.7.6"
  }
 },
 "nbformat": 4,
 "nbformat_minor": 0
}