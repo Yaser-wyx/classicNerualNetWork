{
 "cells": [
  {
   "cell_type": "code",
   "execution_count": 1,
   "metadata": {
    "collapsed": true,
    "pycharm": {
     "name": "#%%\n"
    }
   },
   "outputs": [],
   "source": [
    "from torch.utils.data import DataLoader\n",
    "from imgaug import augmenters as iaa\n",
    "import torch\n",
    "import numpy as np\n",
    "import random\n",
    "from detection.Faster_RCNN.trainer import FasterRCNNTrainer\n",
    "from detection.Faster_RCNN.utils.config import cfg\n",
    "from detection.Faster_RCNN.vgg_faseter_rcnn import VGGFasterRCNN\n",
    "from detection.dataset.voc_dataset import VocDataset\n"
   ]
  },
  {
   "cell_type": "code",
   "execution_count": 2,
   "outputs": [],
   "source": [
    "def setup_seed(seed):\n",
    "    torch.manual_seed(seed)\n",
    "    torch.cuda.manual_seed_all(seed)\n",
    "    np.random.seed(seed)\n",
    "    random.seed(seed)\n",
    "    torch.backends.cudnn.deterministic = True\n",
    "\n"
   ],
   "metadata": {
    "collapsed": false,
    "pycharm": {
     "name": "#%%\n"
    }
   }
  },
  {
   "cell_type": "code",
   "execution_count": 3,
   "outputs": [
    {
     "name": "stdout",
     "output_type": "stream",
     "text": [
      "raw image shape:(442, 500, 3)\n",
      "transformed image shape:(442, 500, 3)\n",
      "scaled image shape:torch.Size([3, 600, 678])\n",
      "tensor([[[ 29.,  22., 447., 355.],\n",
      "         [211., 275., 342., 398.]]], device='cuda:0') tensor([[12., 14.]], device='cuda:0')\n",
      "idx:  tensor(9, device='cuda:0')\n",
      "idx:  tensor(0, device='cuda:0')\n",
      "正样本数： tensor(9, device='cuda:0')\n",
      "负样本数： tensor(247, device='cuda:0')\n",
      "计算rpn回归损失\n",
      "weight: tensor(36, device='cuda:0')\n",
      "计算RoI回归损失\n",
      "weight: tensor(76, device='cuda:0')\n",
      "LossTuple(rpn_reg_loss=tensor(0.0149, device='cuda:0', grad_fn=<DivBackward0>), rpn_cls_loss=tensor(0.6914, device='cuda:0', grad_fn=<NllLossBackward>), roi_reg_loss=tensor(0.4615, device='cuda:0', grad_fn=<DivBackward0>), roi_cls_loss=tensor(3.0399, device='cuda:0', grad_fn=<NllLossBackward>), total_loss=tensor(4.2078, device='cuda:0', grad_fn=<AddBackward0>))\n"
     ]
    }
   ],
   "source": [
    "setup_seed(20)\n",
    "device = cfg.INIT.DEVICE\n",
    "root = \"D:\\\\classicNerualNetWork\\\\detection\\\\VOCtrainval_11-May-2012\\\\VOCdevkit\\\\VOC2012\"\n",
    "seq = iaa.Sequential([\n",
    "    iaa.Fliplr(0.5),\n",
    "    iaa.Flipud(0.5)\n",
    "])\n",
    "voc_dataset = VocDataset(root_dir=root, transforms=seq)\n",
    "voc_dataloader = DataLoader(voc_dataset, shuffle=False, batch_size=1)\n",
    "image, bbox_list, label = next(iter(voc_dataloader))\n",
    "image, bbox_list, label = image.to(device), bbox_list.to(device), label.to(device)\n",
    "print(bbox_list, label)\n",
    "vgg_faster_rcnn = VGGFasterRCNN()\n",
    "vgg_faster_rcnn.to(device=device)\n",
    "optimizer = torch.optim.SGD(vgg_faster_rcnn.parameters(), lr=0.001, momentum=0.5)\n",
    "trainer = FasterRCNNTrainer(vgg_faster_rcnn, optimizer, device)\n",
    "losses = trainer.step(image, bbox_list, label)\n"
   ],
   "metadata": {
    "collapsed": false,
    "pycharm": {
     "name": "#%%\n"
    }
   }
  },
  {
   "cell_type": "code",
   "execution_count": 7,
   "outputs": [
    {
     "name": "stdout",
     "output_type": "stream",
     "text": [
      "0.6914472579956055 0.014865117147564888 3.0399482250213623 0.014865117147564888 4.2077531814575195\n"
     ]
    }
   ],
   "source": [
    "print(losses.rpn_cls_loss.item(), losses.rpn_reg_loss.item(), losses.roi_cls_loss.item(), losses.rpn_reg_loss.item(), losses.total_loss.item())\n",
    "\n",
    "\n"
   ],
   "metadata": {
    "collapsed": false,
    "pycharm": {
     "name": "#%%\n"
    }
   }
  }
 ],
 "metadata": {
  "kernelspec": {
   "display_name": "Python 3",
   "language": "python",
   "name": "python3"
  },
  "language_info": {
   "codemirror_mode": {
    "name": "ipython",
    "version": 2
   },
   "file_extension": ".py",
   "mimetype": "text/x-python",
   "name": "python",
   "nbconvert_exporter": "python",
   "pygments_lexer": "ipython2",
   "version": "2.7.6"
  }
 },
 "nbformat": 4,
 "nbformat_minor": 0
}