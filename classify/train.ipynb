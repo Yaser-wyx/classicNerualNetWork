{
 "cells": [
  {
   "cell_type": "code",
   "execution_count": null,
   "metadata": {
    "collapsed": true
   },
   "outputs": [],
   "source": [
    "from torch.utils.data import DataLoader\n",
    "from torchvision import transforms\n",
    "\n",
    "from classify.TinyImagenetLoader import data_process, ImageDataset\n",
    "from classify.VGG import *\n",
    "import torch\n",
    "import copy\n",
    "import os\n",
    "from torch.utils.tensorboard import SummaryWriter\n",
    "\n",
    "\n"
   ]
  },
  {
   "cell_type": "code",
   "execution_count": null,
   "outputs": [],
   "source": [
    "def train(model, train_data_loader, valid_data_loader, device, optimizer, loss_fn, epochs, get_best=True):\n",
    "    writer = SummaryWriter('runs/fashion_mnist_experiment_1')\n",
    "\n",
    "    best_loss = 99999\n",
    "    best_model = None\n",
    "    for epoch in range(epochs):\n",
    "        model.train()\n",
    "        for index, (input, labels) in enumerate(train_data_loader):\n",
    "            input, labels = input.to(device), labels.to(device)\n",
    "            output = model(input)\n",
    "            loss = loss_fn(output, labels)\n",
    "            model.zero_grad()\n",
    "            loss.backward()\n",
    "            optimizer.step()\n",
    "            if index % 10 == 0:\n",
    "                pred = output.argmax(dim=1)\n",
    "                acc = torch.sum(pred.flatten() == labels.flatten()).item() * 100\n",
    "                writer.add_scalar('Loss/train', float(loss), epoch)\n",
    "                print(\"Epoch:{} iterations:{} loss:{} acc:{}%\".format(epoch, index, loss.item(), acc / len(pred)))\n",
    "        model.eval()\n",
    "        total_loss = 0.\n",
    "        total_acc = 0.\n",
    "        for index, (input, labels) in enumerate(valid_data_loader):\n",
    "            input, labels = input.to(device), labels.to(device)\n",
    "            output = model(input)\n",
    "            loss = loss_fn(output, labels)\n",
    "            pred = output.argmax(dim=1)\n",
    "            pred = pred.view(-1)\n",
    "            label_flatten = labels.view(-1)\n",
    "            total_loss += loss.item() * input.shape[0]\n",
    "            print(label_flatten, pred)\n",
    "            total_acc += torch.sum(pred == label_flatten).item()\n",
    "        val_loss = total_loss / len(valid_data_loader.dataset)\n",
    "        print(\"Epoch:{} val_loss:{} val_acc:{}%\".format(epoch, val_loss,\n",
    "                                                        (total_acc * 100) / len(valid_data_loader.dataset)))\n",
    "        if val_loss < best_loss:\n",
    "            best_model = copy.deepcopy(model)\n",
    "            best_loss = val_loss\n",
    "    if get_best:\n",
    "        return best_model\n",
    "    else:\n",
    "        return model\n"
   ],
   "metadata": {
    "collapsed": false,
    "pycharm": {
     "name": "#%%\n"
    }
   }
  },
  {
   "cell_type": "code",
   "execution_count": null,
   "outputs": [],
   "source": [
    "model = VGG(200)\n",
    "root = os.getcwd()\n",
    "input_size = 64\n",
    "batch_size = 128\n",
    "labels_map, idx2label, train_data, val_data = data_process(root)\n",
    "train_dataset = ImageDataset(train_data, transforms=transforms.Compose([\n",
    "    transforms.ToTensor(),\n",
    "\n",
    "    transforms.RandomHorizontalFlip(),\n",
    "    transforms.RandomVerticalFlip(),\n",
    "]))\n",
    "val_dataset = ImageDataset(val_data, transforms=transforms.Compose([\n",
    "    transforms.ToTensor()\n",
    "]))\n",
    "\n",
    "image_dataloader = {\n",
    "    \"train\": DataLoader(train_dataset, batch_size=batch_size, shuffle=True, pin_memory=True),\n",
    "    \"val\": DataLoader(val_dataset, batch_size=batch_size, shuffle=True, pin_memory=True)\n",
    "}\n",
    "\n",
    "device = torch.device(\"cuda\" if torch.cuda.is_available() else \"cpu\")\n",
    "lr = 0.0005\n",
    "epochs = 50\n",
    "optimizer = torch.optim.SGD(model.parameters(), lr=lr, momentum=0.6)\n",
    "loss_fn = nn.CrossEntropyLoss()\n",
    "model.to(device=device)\n",
    "train(model, train_data_loader=image_dataloader[\"train\"], valid_data_loader=image_dataloader[\"val\"], device=device,\n",
    "      loss_fn=loss_fn,\n",
    "      optimizer=optimizer, epochs=epochs)\n"
   ],
   "metadata": {
    "collapsed": false,
    "pycharm": {
     "name": "#%%\n"
    }
   }
  }
 ],
 "metadata": {
  "kernelspec": {
   "display_name": "Python 3",
   "language": "python",
   "name": "python3"
  },
  "language_info": {
   "codemirror_mode": {
    "name": "ipython",
    "version": 2
   },
   "file_extension": ".py",
   "mimetype": "text/x-python",
   "name": "python",
   "nbconvert_exporter": "python",
   "pygments_lexer": "ipython2",
   "version": "2.7.6"
  }
 },
 "nbformat": 4,
 "nbformat_minor": 0
}